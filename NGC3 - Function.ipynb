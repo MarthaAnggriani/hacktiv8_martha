{
 "cells": [
  {
   "attachments": {},
   "cell_type": "markdown",
   "metadata": {},
   "source": [
    "1. Konversi Celcius-Kelvin"
   ]
  },
  {
   "cell_type": "code",
   "execution_count": 27,
   "metadata": {},
   "outputs": [
    {
     "name": "stdout",
     "output_type": "stream",
     "text": [
      "Temperatur 100.0C sama dengan 373.15K\n"
     ]
    }
   ],
   "source": [
    "# Konversi celcius ke kelvin\n",
    "def to_kelvin(suhu) :\n",
    "    # Fungsi ini berguna untuk mengubah celcius ke kelvin\n",
    "    # :param `suhu` : temperatur celcius | int or float.\n",
    "    # :return: `suhu` : temperatur kelvin | float.\n",
    "    suhu += 273.15 \n",
    "    return(suhu)\n",
    "\n",
    "# Input nilai yang ingin diubah\n",
    "input_celcius = input(\"Masukkan nilai suhu dalam celcius : \")\n",
    "suhu_celcius = float(input_celcius)\n",
    "\n",
    "print (\"Temperatur \" + str(suhu_celcius) + \"C sama dengan \" + str(to_kelvin(suhu_celcius)) + \"K\")"
   ]
  },
  {
   "cell_type": "code",
   "execution_count": 32,
   "metadata": {},
   "outputs": [
    {
     "name": "stdout",
     "output_type": "stream",
     "text": [
      "Temperatur 273.15K sama dengan 0.0C\n"
     ]
    }
   ],
   "source": [
    "# Konversi kelvin ke celcius\n",
    "def to_celcius(suhu):\n",
    "    # Fungsi ini berguna untuk mengubah kelvin ke celcius\n",
    "    # :param `suhu` : temperatur kelvin | int or float.\n",
    "    # :return: `suhu` : temperatur celcius | float.\n",
    "    suhu = suhu - 273.15\n",
    "    return(suhu)\n",
    "\n",
    "# Input nilai yang ingin diubah\n",
    "suhu_kelvin = float(input(\"Masukkan nilai suhu dalam Kelvin : \"))\n",
    "\n",
    "print (\"Temperatur \" + str(suhu_kelvin) + \"K sama dengan \" + str(to_celcius(suhu_kelvin)) + \"C\")"
   ]
  },
  {
   "attachments": {},
   "cell_type": "markdown",
   "metadata": {},
   "source": [
    "2. Konversi Suhu ke Fahrenheit"
   ]
  },
  {
   "cell_type": "code",
   "execution_count": 38,
   "metadata": {},
   "outputs": [
    {
     "name": "stdout",
     "output_type": "stream",
     "text": [
      "Temperatur 100.0 K sama dengan 212.0 F\n"
     ]
    }
   ],
   "source": [
    "# Konversi ke celcius ke fahrenheit\n",
    "def to_fahrenheit(suhu):\n",
    "    # Fungsi ini berguna untuk mengubah celcius ke fahrenheit\n",
    "    # :param `suhu` : temperatur celcius | int or float.\n",
    "    # :return: `suhu` : temperatur fahrenheit | float.\n",
    "    suhu = (suhu*9/5) + 32\n",
    "    return(suhu)\n",
    "\n",
    "# Input nilai yang ingin diubah\n",
    "suhu_celcius = float(input(\"Masukkan nilai suhu dalam celcius : \"))\n",
    "\n",
    "print (\"Temperatur \" + str(suhu_celcius) + \" K sama dengan \" + str(to_fahrenheit(suhu_celcius)) + \" F\")   "
   ]
  },
  {
   "cell_type": "code",
   "execution_count": 37,
   "metadata": {},
   "outputs": [
    {
     "name": "stdout",
     "output_type": "stream",
     "text": [
      "Temperatur 273.15 K sama dengan 32.0 F\n"
     ]
    }
   ],
   "source": [
    "# Konversi ke kelvin ke fahrenheit\n",
    "def to_fahrenheit(suhu):\n",
    "    # Fungsi ini berguna untuk mengubah kelvin ke fahrenheit\n",
    "    # :param `suhu` : temperatur kelvin | int or float.\n",
    "    # :return: `suhu` : temperatur fahrenheit | float.\n",
    "    suhu = (suhu - 273.15)*9/5 + 32\n",
    "    return(suhu)\n",
    "\n",
    "# Input nilai yang ingin diubah\n",
    "suhu_kelvin = float(input(\"Masukkan nilai suhu dalam kelvin : \"))\n",
    "\n",
    "print (\"Temperatur \" + str(suhu_kelvin) + \" K sama dengan \" + str(to_fahrenheit(suhu_kelvin)) + \" K\")   "
   ]
  },
  {
   "attachments": {},
   "cell_type": "markdown",
   "metadata": {},
   "source": [
    "3. Konversi Suhu dari Fahrenheit"
   ]
  },
  {
   "cell_type": "code",
   "execution_count": 45,
   "metadata": {},
   "outputs": [
    {
     "name": "stdout",
     "output_type": "stream",
     "text": [
      "Temperatur 212.0 F sama dengan 100.0 C\n"
     ]
    }
   ],
   "source": [
    "# Konversi ke fahrenheit ke celcius\n",
    "def fahren_to_celcius(suhu):\n",
    "    # Fungsi ini berguna untuk mengubah fahrenheit ke celcius\n",
    "    # :param `suhu` : temperatur fahrenheit | int or float.\n",
    "    # :return: `suhu` : temperatur celcius | float.\n",
    "    suhu = (suhu-32) * 5/9\n",
    "    return(suhu)\n",
    "\n",
    "# Input nilai yang ingin diubah\n",
    "suhu_fahrenheit = float(input(\"Masukkan nilai suhu dalam fahrenheit : \"))\n",
    "\n",
    "print (\"Temperatur \" + str(suhu_fahrenheit) + \" F sama dengan \" + str(fahren_to_celcius(suhu_fahrenheit)) + \" C\")   "
   ]
  },
  {
   "cell_type": "code",
   "execution_count": 2,
   "metadata": {},
   "outputs": [
    {
     "name": "stdout",
     "output_type": "stream",
     "text": [
      "Temperatur 300.0 F sama dengan 422.0388888888889 K\n"
     ]
    }
   ],
   "source": [
    "# Konversi ke fahrenheit ke kelvin\n",
    "def fahren_to_kelvin(suhu):\n",
    "    # Fungsi ini berguna untuk mengubah fahrenheit ke kelvin\n",
    "    # :param `suhu` : temperatur fahrenheit | int or float.\n",
    "    # :return: `suhu` : temperatur kelvin | float.\n",
    "    suhu = (suhu-32) * 5/9 + 273.15\n",
    "    return(suhu)\n",
    "\n",
    "# Input nilai yang ingin diubah\n",
    "suhu_fahrenheit = float(input(\"Masukkan nilai suhu dalam fahrenheit : \"))\n",
    "\n",
    "print (\"Temperatur \" + str(suhu_fahrenheit) + \" F sama dengan \" + str(fahren_to_kelvin(suhu_fahrenheit)) + \" K\")   "
   ]
  },
  {
   "attachments": {},
   "cell_type": "markdown",
   "metadata": {},
   "source": [
    "#### Cara no.3 Lebih singkat"
   ]
  },
  {
   "cell_type": "code",
   "execution_count": 20,
   "metadata": {},
   "outputs": [
    {
     "name": "stdout",
     "output_type": "stream",
     "text": [
      "148.88888888888889\n"
     ]
    }
   ],
   "source": [
    "def to_fahren (final, suhu):\n",
    "    # Fungsi untuk menghitung suhu dalam fahrenheit   \n",
    "    if final == \"Celcius\" :\n",
    "        suhu_in = (suhu-32) * 5/9\n",
    "        return suhu_in\n",
    "    elif final == \"Kelvin\" :\n",
    "        suhu_in = (suhu-32) * 5/9 + 273.15\n",
    "        return suhu_in\n",
    "    else : \n",
    "        return None\n",
    "\n",
    "final = input(\"Celcius atau Kelvin : \")\n",
    "suhu = int(input(\"Nilai suhu : \"))\n",
    "\n",
    "print(to_fahren(final,suhu))\n",
    "\n",
    "\n"
   ]
  }
 ],
 "metadata": {
  "kernelspec": {
   "display_name": "Python 3",
   "language": "python",
   "name": "python3"
  },
  "language_info": {
   "codemirror_mode": {
    "name": "ipython",
    "version": 3
   },
   "file_extension": ".py",
   "mimetype": "text/x-python",
   "name": "python",
   "nbconvert_exporter": "python",
   "pygments_lexer": "ipython3",
   "version": "3.11.2"
  },
  "orig_nbformat": 4
 },
 "nbformat": 4,
 "nbformat_minor": 2
}
